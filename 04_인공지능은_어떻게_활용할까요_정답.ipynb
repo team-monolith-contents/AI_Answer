{
 "cells": [
  {
   "cell_type": "markdown",
   "id": "740acaf7",
   "metadata": {},
   "source": [
    "**[문제1] 아래의 인공지능(기계학습) 예시들은 각각 어떤 방법으로 학습시킨 것일까요? 여러분의 생각을 공유해봅시다.\n",
    "정답이 정해져 있는 것은 아니니 선택한 방법이라고 생각하는 이유도 함께 생각해봅시다.\n",
    "아래의 예시에 존재하지 않는 인공지능을 선택해서 설명해도 됩니다.**\n",
    "\n",
    "- 챗봇 : 일정한 주제에 대해서 나누었던 대화 내용을 데이터로 학습 \n",
    "- 자율 주행 자동차 : 자동차가 길에서 운행한다면 만났을 법한 자동차, 사람, 신호등, 표지판 등을 인식할 수 있도록 학습하고 인식한 후 진행해야하는 알맞은 동작에 대해서도 학습\n",
    "- 추천 서비스 : 비슷한 취향을 갖은 사람들이 어떤 소비를 하는 지 분석하고 사람들의 취향을 어떻게 분류할 지 학습\n",
    "\n",
    "\n"
   ]
  },
  {
   "cell_type": "markdown",
   "id": "9206fa56",
   "metadata": {},
   "source": [
    "**[문제2] 인공지능을 이용해서 해결할 수 있는 문제에는 어떤 것들이 있을까요?**\n",
    "\n",
    "- 학생이 코들에서 계속 공부를 할 것인가 그만둘 것인가?\n",
    "- 내년도 예상 강수량은 얼마인가?\n",
    "- 우리 학급 학생들 취향에 따른 추천 동아리\n"
   ]
  }
 ],
 "metadata": {
  "kernelspec": {
   "display_name": "Python 3 (ipykernel)",
   "language": "python",
   "name": "python3"
  },
  "language_info": {
   "codemirror_mode": {
    "name": "ipython",
    "version": 3
   },
   "file_extension": ".py",
   "mimetype": "text/x-python",
   "name": "python",
   "nbconvert_exporter": "python",
   "pygments_lexer": "ipython3",
   "version": "3.9.13"
  }
 },
 "nbformat": 4,
 "nbformat_minor": 5
}
