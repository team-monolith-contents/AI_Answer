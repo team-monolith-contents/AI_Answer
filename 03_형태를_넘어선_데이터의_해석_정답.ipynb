{
 "cells": [
  {
   "cell_type": "markdown",
   "id": "a14e5e04",
   "metadata": {},
   "source": [
    "**[문제1] 내가 분석하고 싶은 이미지 데이터의 종류와 알아내고 싶은 것을 적어봅시다.** \n",
    "\n",
    "예시 : 아이가 우는 표정을 보고 배가 고픈지 졸린지 알고 싶습니다. \n"
   ]
  },
  {
   "cell_type": "markdown",
   "id": "0393d368",
   "metadata": {},
   "source": [
    "**[문제2] 이미지의 색상이 점점 밝아질수록 화소값이 어떻게 변하는 지 적어봅시다.** \n",
    "\n",
    "이미지의 색상이 밝을수록 화소값이 커지고, 어두울수록 화소값이 작아집니다. \n"
   ]
  },
  {
   "cell_type": "markdown",
   "id": "1823cbd5",
   "metadata": {},
   "source": [
    "**[문제3] 컬러 이미지의 화소값은 어떻게 나타내는지 알아봅시다.** \n",
    "\n",
    "빛의 3원색인 RGB(Red, Green, Blue) 값의 조합으로 컬러 이미지를 만들 수 있습니다. \n",
    "Red, Green, Blue는 각각 0~255의 값을 갖을 수 있으며 그 조합으로 256 X 256 X 256 가지의 컬러를 만들 수 있습니다. \n"
   ]
  },
  {
   "cell_type": "markdown",
   "id": "dafc63db",
   "metadata": {},
   "source": [
    "**[문제4] 음성 데이터를 분석해 알아내고 싶은 것을 적어봅시다.** \n",
    "\n",
    "예시 : 강아지가 낑낑 거리는 소리를 분석해서 무엇이 불편한 지 알고 싶습니다. \n"
   ]
  },
  {
   "cell_type": "markdown",
   "id": "d96a986e",
   "metadata": {},
   "source": [
    "**[문제5] 소리가 클수록 오디오 데이터의 값이 어떻게 변하는지 적어봅시다.** \n",
    "\n",
    "소리가 클수록 오디오 데이터의 진폭이 커집니다. 즉 파형의 높이가 높아집니다. \n",
    "\n"
   ]
  },
  {
   "cell_type": "markdown",
   "id": "35a5283f",
   "metadata": {},
   "source": [
    "**[문제6] 다음과 같은 문장을 다르게 번역한 결과입니다. \n",
    "각 번역을 위해서는 자연어에 대한 어느 단계까지의 분석이 필요한지 적어봅시다.** \n",
    "\n",
    "인간이 사용하는 언어처럼 자연스러운 번역을 위해서라면 자연어 분석 단계인 형태소 분석, 구문 분석, 의미 분석, 담화 분석이 모두 필요합니다. 자연어 분석 단계는 번역 뿐 아니라 검색, AI 스피커, 뉴스 요약, 자동 철자 교정 프로그램, AI 콜센터 등 응용 분야가 넓습니다. \n"
   ]
  }
 ],
 "metadata": {
  "kernelspec": {
   "display_name": "Python 3 (ipykernel)",
   "language": "python",
   "name": "python3"
  },
  "language_info": {
   "codemirror_mode": {
    "name": "ipython",
    "version": 3
   },
   "file_extension": ".py",
   "mimetype": "text/x-python",
   "name": "python",
   "nbconvert_exporter": "python",
   "pygments_lexer": "ipython3",
   "version": "3.9.13"
  }
 },
 "nbformat": 4,
 "nbformat_minor": 5
}
