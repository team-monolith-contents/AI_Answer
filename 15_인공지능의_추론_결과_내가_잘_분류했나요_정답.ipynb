{
 "cells": [
  {
   "cell_type": "markdown",
   "metadata": {},
   "source": [
    "**[문제1] 아래 데이터에서 정밀도, 재현율, 최종적으로 F1 점수까지 직접 구하고, 아래 코드를 실행하여 확인해보아요.**\n",
    "\n",
    "- 실제 클래스 : [1, 0, 0, 1, 1, 0, 1, 1, 0, 0, 1, 0, 1, 0, 1, 1, 0]\n",
    "- 예측된 클래스 : [1, 0, 1, 1, 1, 0, 1, 0, 1, 0, 1, 1, 0, 0, 1, 1, 0] # 예측된 클래스\n",
    "\n",
    "---  \n",
    "- 정밀도 : TP / (TP + FP) = 0.7\n",
    "- 재현율 : TP / (TP + FN) = 0.77778\n",
    "- F1 점수 : 2 X (정밀도 x 재현율) / (정밀도 + 재현율) = 0.73684\n",
    "  \n",
    "---\n",
    "- TP : 7\n",
    "- FP : 3\n",
    "- FN : 2\n",
    "- TN : 5\n"
   ]
  },
  {
   "cell_type": "markdown",
   "metadata": {},
   "source": [
    "**연습문제를 풀어봅시다 1** [혼동행렬]"
   ]
  },
  {
   "cell_type": "code",
   "execution_count": null,
   "metadata": {
    "vscode": {
     "languageId": "plaintext"
    }
   },
   "outputs": [],
   "source": [
    "import numpy as np\n",
    "\n",
    "N = int(input())\n",
    "prev = list(map(int, input().split()))\n",
    "act = list(map(int, input().split()))\n",
    "\n",
    "cm = {'TP':0, 'FP':0, 'FN':0, 'TN':0}\n",
    "\n",
    "for i in range(N):\n",
    "    if prev[i]==1 and act[i]==1:\n",
    "        cm['TP']+=1\n",
    "    elif prev[i]==1 and act[i]==0:\n",
    "        cm['FP']+=1\n",
    "    elif prev[i]==0 and act[i]==1:\n",
    "        cm['FN']+=1\n",
    "    elif prev[i]==0 and act[i]==0:\n",
    "        cm['TN']+=1\n",
    "        \n",
    "print(cm['TP'], cm['FP'], cm['FN'], cm['TN'])"
   ]
  },
  {
   "cell_type": "markdown",
   "metadata": {},
   "source": [
    "**연습문제를 풀어봅시다 2** [분류모델 평가 지표]"
   ]
  },
  {
   "cell_type": "code",
   "execution_count": null,
   "metadata": {
    "vscode": {
     "languageId": "plaintext"
    }
   },
   "outputs": [],
   "source": [
    "import numpy as np\n",
    "\n",
    "N = int(input())\n",
    "prev = list(map(int, input().split()))\n",
    "act = list(map(int, input().split()))\n",
    "\n",
    "cm = {'TP':0, 'FP':0, 'FN':0, 'TN':0}\n",
    "\n",
    "for i in range(N):\n",
    "    if prev[i]==1 and act[i]==1:\n",
    "        cm['TP']+=1\n",
    "    elif prev[i]==1 and act[i]==0:\n",
    "        cm['FP']+=1\n",
    "    elif prev[i]==0 and act[i]==1:\n",
    "        cm['FN']+=1\n",
    "    elif prev[i]==0 and act[i]==0:\n",
    "        cm['TN']+=1\n",
    "        \n",
    "Precision = cm['TP'] / (cm['TP'] + cm['FP'])\n",
    "Accuracy = (cm['TP']+cm['TN']) / (cm['TP']+cm['TN']+cm['FP']+cm['FN'])\n",
    "Recall = cm['TP'] / (cm['TP'] + cm['FN'])\n",
    "\n",
    "print('%.3f'%Accuracy)\n",
    "print('%.3f'%Precision)\n",
    "print('%.3f'%Recall)"
   ]
  },
  {
   "cell_type": "markdown",
   "metadata": {},
   "source": [
    "**연습문제를 풀어봅시다 3** [F1점수]"
   ]
  },
  {
   "cell_type": "code",
   "execution_count": null,
   "metadata": {
    "vscode": {
     "languageId": "plaintext"
    }
   },
   "outputs": [],
   "source": [
    "import numpy as np\n",
    "\n",
    "N = int(input())\n",
    "prev = list(map(int, input().split()))\n",
    "act = list(map(int, input().split()))\n",
    "\n",
    "cm = {'TP':0, 'FP':0, 'FN':0, 'TN':0}\n",
    "\n",
    "for i in range(N):\n",
    "    if prev[i]==1 and act[i]==1:\n",
    "        cm['TP']+=1\n",
    "    elif prev[i]==1 and act[i]==0:\n",
    "        cm['FP']+=1\n",
    "    elif prev[i]==0 and act[i]==1:\n",
    "        cm['FN']+=1\n",
    "    elif prev[i]==0 and act[i]==0:\n",
    "        cm['TN']+=1\n",
    "        \n",
    "# print(cm['TP'], cm['FP'], cm['FN'], cm['TN'])\n",
    "\n",
    "Precision = cm['TP'] / (cm['TP'] + cm['FP'])\n",
    "Accuracy = (cm['TP']+cm['TN']) / (cm['TP']+cm['TN']+cm['FP']+cm['FN'])\n",
    "Recall = cm['TP'] / (cm['TP'] + cm['FN'])\n",
    "\n",
    "F1 = 2 * (Precision * Recall) / (Precision + Recall)\n",
    "\n",
    "print('%.3f'%F1)"
   ]
  }
 ],
 "metadata": {
  "language_info": {
   "name": "python"
  },
  "orig_nbformat": 4
 },
 "nbformat": 4,
 "nbformat_minor": 2
}
