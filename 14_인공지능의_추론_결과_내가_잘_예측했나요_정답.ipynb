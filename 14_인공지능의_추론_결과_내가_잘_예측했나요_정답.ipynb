{
 "cells": [
  {
   "cell_type": "markdown",
   "metadata": {},
   "source": [
    "**[문제1] 인공지능이 올바르게 판단하지 못할 경우 일상에서 벌어질 수 있는 문제점을 생각해보아요.**\n",
    "\n",
    "- 얼굴인식 잠금장치를 사용하는 스마트폰은 주인과 다른 사람의 얼굴을 구분하지 못할 것\n",
    "- 자율주행 자동차는 교통사고 유발\n",
    "- 인공지능 에어컨은 실내 온도 조절 불가능"
   ]
  },
  {
   "cell_type": "markdown",
   "metadata": {},
   "source": [
    "**[문제2] 아래 표는 6단원에서 사용했던 예시에요. 평균제곱오차를 구하고, 정확하게 구했는지 확인해보아요.**\n",
    "\n",
    "(74x74 + 112x112 + (-60)x(-60) + (-123)x(-123)) / 4 \n",
    "= (5476 + 12544 + 3600 + 15129) / 4\n",
    "= 9187.25\n"
   ]
  },
  {
   "cell_type": "code",
   "execution_count": null,
   "metadata": {
    "vscode": {
     "languageId": "plaintext"
    }
   },
   "outputs": [],
   "source": [
    "actual = [150, 208, 500, 875]\n",
    "measured = [224, 320, 440, 752]\n",
    "\n",
    "import numpy as np\n",
    "\n",
    "measured_np = np.array(measured)\n",
    "actual_np = np.array(actual)\n",
    "diff = measured_np - actual_np\n",
    "\n",
    "print(diff**2)\n",
    "mse = np.mean(diff**2)\n",
    "print(\"평균제곱오차: \" + str(mse))\n",
    "\n",
    "\n",
    "from sklearn.metrics import mean_squared_error, mean_absolute_error\n",
    "print(\"평균제곱오차: \" + str(mean_squared_error(measured, actual)))"
   ]
  },
  {
   "cell_type": "markdown",
   "metadata": {},
   "source": [
    "**연습문제를 풀어봅시다 1** [평균제곱오차]"
   ]
  },
  {
   "cell_type": "code",
   "execution_count": null,
   "metadata": {
    "vscode": {
     "languageId": "plaintext"
    }
   },
   "outputs": [],
   "source": [
    "import numpy as np\n",
    "\n",
    "N = int(input())\n",
    "\n",
    "actual = list(map(float, input().split()))\n",
    "measured = list(map(float, input().split()))\n",
    "\n",
    "measured_np = np.array(measured)\n",
    "actual_np = np.array(actual)\n",
    "diff = measured_np - actual_np\n",
    "\n",
    "mse = np.mean(diff**2)\n",
    "print('%.3f'%mse)"
   ]
  },
  {
   "cell_type": "markdown",
   "metadata": {},
   "source": [
    "**연습문제를 풀어봅시다 2** [평균절대오차]"
   ]
  },
  {
   "cell_type": "code",
   "execution_count": null,
   "metadata": {
    "vscode": {
     "languageId": "plaintext"
    }
   },
   "outputs": [],
   "source": [
    "import numpy as np\n",
    "\n",
    "N = int(input())\n",
    "\n",
    "actual = list(map(float, input().split()))\n",
    "measured = list(map(float, input().split()))\n",
    "\n",
    "measured_np = np.array(measured)\n",
    "actual_np = np.array(actual)\n",
    "diff = measured_np - actual_np\n",
    "\n",
    "mse = np.mean(np.abs(diff))\n",
    "print('%.3f'%mse)"
   ]
  }
 ],
 "metadata": {
  "kernelspec": {
   "display_name": "Python 3 (ipykernel)",
   "language": "python",
   "name": "python3"
  },
  "language_info": {
   "codemirror_mode": {
    "name": "ipython",
    "version": 3
   },
   "file_extension": ".py",
   "mimetype": "text/x-python",
   "name": "python",
   "nbconvert_exporter": "python",
   "pygments_lexer": "ipython3",
   "version": "3.10.13"
  }
 },
 "nbformat": 4,
 "nbformat_minor": 4
}
