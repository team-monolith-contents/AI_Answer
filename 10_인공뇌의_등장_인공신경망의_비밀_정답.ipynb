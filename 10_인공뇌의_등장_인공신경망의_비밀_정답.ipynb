{
 "cells": [
  {
   "cell_type": "markdown",
   "id": "1c549a43",
   "metadata": {},
   "source": [
    "**[문제1] 아래 그림에 주어진 단층 퍼셉트론의 출력값을 계산해보아요.**\n",
    "\n",
    "7x2 + 5x1 + 3x3 = 14 + 5 + 9 = 28\n",
    "\n",
    "\n"
   ]
  },
  {
   "cell_type": "markdown",
   "id": "5434130c",
   "metadata": {},
   "source": [
    "**[문제2] 분포형태 2를 분류하는 단층 퍼셉트론을 만들어봅시다.**\n",
    "\n",
    "아래에 텍스트 셀을 추가하고 결과를 붙여넣기 해주세요.\n",
    "(주의 : 은닉층(Hidden layer)를 추가하면 안됩니다!)"
   ]
  },
  {
   "cell_type": "markdown",
   "id": "b14bf2f8",
   "metadata": {},
   "source": [
    "**[문제3] 분포형태 2를 분류하는 단층 퍼셉트론을 만들어봅시다.**\n",
    "아래에 텍스트 셀을 추가하고 결과를 붙여넣기 해주세요.\n",
    "(주의 : 입력값으로 x1과 x2만을 사용합니다.)"
   ]
  },
  {
   "cell_type": "markdown",
   "id": "7bce6d48",
   "metadata": {},
   "source": [
    "**[문제4] 분포형태 4를 분류하는 다층 퍼셉트론을 만들어봅시다.**\n",
    "입력값과 은닉층, 퍼셉트론의 수를 적절하게 조절하여 학습횟수가 500회 이하일 때에 가장 좋은 성능을 가지도록 만들어 보고 친구들과 비교해봅시다.\n",
    "아래에 텍스트 셀을 추가하고 결과를 붙여넣기 해주세요.\n",
    "(주의 : 같은 인공 신경망이라도 학습 시킬 때 마다 다른 결과가 나올 수 있습니다.)"
   ]
  }
 ],
 "metadata": {
  "kernelspec": {
   "display_name": "sunny",
   "language": "python",
   "name": "sunny"
  },
  "language_info": {
   "codemirror_mode": {
    "name": "ipython",
    "version": 3
   },
   "file_extension": ".py",
   "mimetype": "text/x-python",
   "name": "python",
   "nbconvert_exporter": "python",
   "pygments_lexer": "ipython3",
   "version": "3.9.16"
  }
 },
 "nbformat": 4,
 "nbformat_minor": 5
}
