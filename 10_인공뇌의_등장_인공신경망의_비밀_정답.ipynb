{
 "cells": [
  {
   "cell_type": "markdown",
   "id": "1c549a43",
   "metadata": {},
   "source": [
    "**[문제1] 아래 그림에 주어진 단층 퍼셉트론의 출력값을 계산해보아요.**\n",
    "\n",
    "7x2 + 5x1 + 3x3 = 14 + 5 + 9 = 28\n",
    "\n",
    "\n"
   ]
  },
  {
   "cell_type": "markdown",
   "id": "5434130c",
   "metadata": {},
   "source": [
    "**[문제2] 분포형태 2를 분류하는 단층 퍼셉트론을 만들어봅시다.**\n",
    "\n",
    "<table>\n",
    "<tr>\n",
    "    <th><img src=\"https://tmn-bucket-materials-all.s3.ap-northeast-2.amazonaws.com/image/ai/AI_A_10_1.png\" width=\"800\"></th>\n",
    "    </tr>\n",
    "<tr>\n",
    "    <th>단층 퍼셉트론</th>\n",
    "</tr>\n",
    "</table>"
   ]
  },
  {
   "cell_type": "markdown",
   "id": "b14bf2f8",
   "metadata": {},
   "source": [
    "**[문제3] 분포형태 2를 분류하는 단층 퍼셉트론을 만들어봅시다.**\n",
    "\n"
   ]
  },
  {
   "cell_type": "markdown",
   "id": "ad29a6ca",
   "metadata": {},
   "source": [
    "<table>\n",
    "<tr>\n",
    "    <th><img src=\"https://tmn-bucket-materials-all.s3.ap-northeast-2.amazonaws.com/image/ai/AI_A_10_2.png\" width=\"800\"></th>\n",
    "    </tr>\n",
    "<tr>\n",
    "    <th>단층 퍼셉트론</th>\n",
    "</tr>\n",
    "</table>"
   ]
  },
  {
   "cell_type": "markdown",
   "id": "7bce6d48",
   "metadata": {},
   "source": [
    "**[문제4] 분포형태 4를 분류하는 다층 퍼셉트론을 만들어봅시다.**\n"
   ]
  },
  {
   "cell_type": "markdown",
   "id": "75e02b88",
   "metadata": {},
   "source": [
    "<table>\n",
    "<tr>\n",
    "    <th><img src=\"https://tmn-bucket-materials-all.s3.ap-northeast-2.amazonaws.com/image/ai/AI_A_10_3.png\" width=\"800\"></th>\n",
    "    </tr>\n",
    "<tr>\n",
    "    <th>다층 퍼셉트론</th>\n",
    "</tr>\n",
    "</table>"
   ]
  }
 ],
 "metadata": {
  "kernelspec": {
   "display_name": "Python 3 (ipykernel)",
   "language": "python",
   "name": "python3"
  },
  "language_info": {
   "codemirror_mode": {
    "name": "ipython",
    "version": 3
   },
   "file_extension": ".py",
   "mimetype": "text/x-python",
   "name": "python",
   "nbconvert_exporter": "python",
   "pygments_lexer": "ipython3",
   "version": "3.10.13"
  }
 },
 "nbformat": 4,
 "nbformat_minor": 5
}
