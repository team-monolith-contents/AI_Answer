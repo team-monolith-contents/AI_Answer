{
 "cells": [
  {
   "cell_type": "markdown",
   "id": "df34c732",
   "metadata": {},
   "source": [
    "**[문제1] 아래 지도를 BFS, DFS로 탐색할 때, 각각의 경우에 대한 탐색 순서를 적어보아요.**\n",
    "\n",
    "*********BFS 실행*********\n",
    "- 1번째 방문: A\n",
    "- 2번째 방문: B\n",
    "- 3번째 방문: C\n",
    "- 4번째 방문: M\n",
    "- 5번째 방문: O\n",
    "- 6번째 방문: K\n",
    "- 7번째 방문: U\n",
    "- 8번째 방문: X\n",
    "- 9번째 방문: Z\n",
    "- 10번째 방문: Y\n",
    "\n",
    "*********DFS 실행*********\n",
    "- 1번째 방문: A\n",
    "- 2번째 방문: B\n",
    "- 3번째 방문: C\n",
    "- 4번째 방문: M\n",
    "- 5번째 방문: O\n",
    "- 6번째 방문: U\n",
    "- 7번째 방문: K\n",
    "- 8번째 방문: X\n",
    "- 9번째 방문: Z\n",
    "- 10번째 방문: Y\n"
   ]
  },
  {
   "cell_type": "code",
   "execution_count": null,
   "id": "704d018c",
   "metadata": {
    "vscode": {
     "languageId": "plaintext"
    }
   },
   "outputs": [],
   "source": [
    "# 트리를 완성해주세요.\n",
    "tree = dict()\n",
    "tree['start'] = 'A'\n",
    "tree['target'] = 'Y' # ' '으로 하면 모든 상태 탐색\n",
    "\n",
    "### 여기에 코드를 입력하세요 ###\n",
    "tree['A'] = ['B']\n",
    "tree['B'] = ['C']\n",
    "tree['C'] = ['M']\n",
    "tree['M'] = ['O', 'K']\n",
    "tree['O'] = ['U']\n",
    "tree['K'] = ['X']\n",
    "tree['X'] = ['Z', 'Y', 'H']\n",
    "##############################\n",
    "\n",
    "# BFS 실행\n",
    "print(\"*********BFS 실행*********\")\n",
    "BFS(tree)\n",
    "\n",
    "### 여기에 코드를 입력하세요 ###\n",
    "#(탐색 순서는 역순)\n",
    "tree['A'] = ['B']\n",
    "tree['B'] = ['C']\n",
    "tree['C'] = ['M']\n",
    "tree['M'] = ['K', 'O']\n",
    "tree['O'] = ['U']\n",
    "tree['K'] = ['X']\n",
    "tree['X'] = ['H', 'Y', 'Z']\n",
    "##############################\n",
    "\n",
    "# DFS 실행\n",
    "print(\"*********DFS 실행*********\")\n",
    "DFS(tree)"
   ]
  },
  {
   "cell_type": "markdown",
   "id": "57a560fa",
   "metadata": {},
   "source": [
    "**[문제2] 아래 기호화된 규칙들과 사실들을 살펴보고, 추론할 수 있는 새로운 사실들을 적어봅시다.**\n",
    "\n",
    "- 사실 1: 사람에게 이상적인 수면시간은 7시간이다. \n",
    "- 사실 2: 재미있는 드라마가 밤 늦은 시간에 방송하고 있다. \n",
    "\n",
    "- 규칙 1: IF 사람에게 이상적인 수면시간은 7시간이다. THEN 지각 확률 <= 30%이다.\n",
    "- 규칙 2: IF 어제 늦게까지 드라마를 보았다 AND 지각 확률 > 30% THEN 지각 확률 >= 80%이다.\n",
    "- 규칙 3: IF 지각 확률 >= 70% THEN 벌금을 낸다.\n",
    "\n",
    "\n",
    "\n"
   ]
  }
 ],
 "metadata": {
  "kernelspec": {
   "display_name": "sunny",
   "language": "python",
   "name": "sunny"
  },
  "language_info": {
   "codemirror_mode": {
    "name": "ipython",
    "version": 3
   },
   "file_extension": ".py",
   "mimetype": "text/x-python",
   "name": "python",
   "nbconvert_exporter": "python",
   "pygments_lexer": "ipython3",
   "version": "3.9.16"
  }
 },
 "nbformat": 4,
 "nbformat_minor": 5
}
