{
 "cells": [
  {
   "cell_type": "markdown",
   "id": "1287b89d",
   "metadata": {},
   "source": [
    "연습문제를 풀어봅시다. \n",
    "\n",
    "1. 데이터 전처리 연습\n",
    "2. 가계부 결측값 변경\n",
    "3. 판다스 - 결측값 처리 - 일괄 변경\n",
    "4. 판다스 - 결측값 처리 - 열에 따라 변경"
   ]
  },
  {
   "cell_type": "code",
   "execution_count": null,
   "id": "f35c782e",
   "metadata": {},
   "outputs": [],
   "source": [
    "import pandas as pd\n",
    "\n",
    "df = pd.DataFrame([[1,0.1,1],[2,None,None],[3,None,3],[None,0.4,5],[5,0.5,5]], columns = ['x1', 'x2', 'x3'])\n",
    "\n",
    "### 여기에 코드를 작성해주세요 ###\n",
    "df['x1'] = df['x1'].fillna(df['x1'].mean( ))\n",
    "df['x2'] = df['x2'].fillna(df['x2'].median( ))\n",
    "df['x3'] = df['x3'].fillna(df['x3'].mode( )[0])\n",
    "################################\n",
    "\n",
    "print(df)"
   ]
  },
  {
   "cell_type": "code",
   "execution_count": null,
   "id": "99080fec",
   "metadata": {},
   "outputs": [],
   "source": [
    "import pandas as pd\n",
    "week = ['첫째주', '둘째주', '셋째주', '넷째주']\n",
    "acc = [[None, 5000, 100000, 2000], \n",
    "       [None, None, None, 30000], \n",
    "       [20000, 3000, 110000, 300000], \n",
    "       [25000, None, 100000, 100000]]\n",
    "col = ['식비','교통비', '관리비', '기타비용']\n",
    "house_acc = pd.DataFrame(index=week, columns=col, data=acc)\n",
    "\n",
    "items = {'식비':22500, '교통비':4000, '관리비':100000}\n",
    "print(house_acc.fillna(items))"
   ]
  },
  {
   "cell_type": "code",
   "execution_count": null,
   "id": "c5d0e8ff",
   "metadata": {},
   "outputs": [],
   "source": [
    "import pandas as pd\n",
    "df = pd.DataFrame({\"a\":[1, 2, None, 4, 5], \"c\":[3, 4, 5, None, 7], \"e\":[None, None, 7, 8, 9]}, dtype=float)  \n",
    "df.insert(1, \"b\", pd.Series({1: 3, 3: 5}))  \n",
    "df.insert(3, \"d\", pd.Series({1: 5, 3: 7}))\n",
    "\n",
    "n = float(input())\n",
    "print(df.fillna(n))"
   ]
  },
  {
   "cell_type": "code",
   "execution_count": null,
   "id": "73f9b1f5",
   "metadata": {},
   "outputs": [],
   "source": [
    "import pandas as pd\n",
    "df = pd.DataFrame({'A': [1, 2, None, 4, 5],\n",
    "                   'B': [6, 7, 8, 9, 10],\n",
    "                   'C': [11, None, 13, None, 15],\n",
    "                   'D': [1, 2, 3, 4, 5], \n",
    "                   'E': [6, 7, 8, 9, 10],\n",
    "                   'F': [None, 12, None, None, None]})\n",
    "\n",
    "new_items = {'A':df.A.mean(), 'C':df.C.mean(), 'F':df.F.mean()}\n",
    "df.fillna(new_items, inplace=True)\n",
    "print(df)"
   ]
  }
 ],
 "metadata": {
  "kernelspec": {
   "display_name": "Python 3 (ipykernel)",
   "language": "python",
   "name": "python3"
  },
  "language_info": {
   "codemirror_mode": {
    "name": "ipython",
    "version": 3
   },
   "file_extension": ".py",
   "mimetype": "text/x-python",
   "name": "python",
   "nbconvert_exporter": "python",
   "pygments_lexer": "ipython3",
   "version": "3.10.13"
  }
 },
 "nbformat": 4,
 "nbformat_minor": 5
}
