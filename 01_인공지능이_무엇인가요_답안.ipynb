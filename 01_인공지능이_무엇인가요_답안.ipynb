{
 "cells": [
  {
   "cell_type": "markdown",
   "id": "73827ded",
   "metadata": {},
   "source": [
    "**[문제1] 인공지능 하면 떠오르는 내용들을 자유롭게 적어보아요.**\n",
    "\n",
    "- 시리, 빅스비, 구글 어시스턴트 등 우리 주변에 이미 존재하는 인공지능\n",
    "- 로봇, 자율주행 등 우리 생활을 편리하게 해줄 것으로 예상\n",
    "- ChatGPT 등 생성형 인공지능으로 글, 그림 등 인간의 영역이라고 생각했던 창의성까지 위협\n",
    "\n"
   ]
  },
  {
   "cell_type": "markdown",
   "id": "c575e5d8",
   "metadata": {},
   "source": [
    "**[문제2] 인공지능이 무엇인지 앞서 이야기한 ChatGPT에 질문해보아요.**\n",
    "\n",
    "*** 예시 참조\n",
    "\n",
    "\n",
    "\n"
   ]
  },
  {
   "cell_type": "markdown",
   "id": "6e00c57a",
   "metadata": {},
   "source": [
    "**[문제3] 우리 주변의 지능 에이전트를 찾아보아요.**\n",
    "\n",
    "인공지능 스피커, 인공지능 에어컨, 자율주행 자동차(레벨1, 레벨2), 배달 로봇, 서빙 로봇, 커피 타는 로봇, 공항 안내 로봇 등\n",
    "\n",
    "\n"
   ]
  }
 ],
 "metadata": {
  "kernelspec": {
   "display_name": "Python 3 (ipykernel)",
   "language": "python",
   "name": "python3"
  },
  "language_info": {
   "codemirror_mode": {
    "name": "ipython",
    "version": 3
   },
   "file_extension": ".py",
   "mimetype": "text/x-python",
   "name": "python",
   "nbconvert_exporter": "python",
   "pygments_lexer": "ipython3",
   "version": "3.10.13"
  }
 },
 "nbformat": 4,
 "nbformat_minor": 5
}
