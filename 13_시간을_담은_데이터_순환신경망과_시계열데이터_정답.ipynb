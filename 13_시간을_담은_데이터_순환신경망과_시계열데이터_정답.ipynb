{
 "cells": [
  {
   "cell_type": "markdown",
   "metadata": {},
   "source": [
    "**[문제1] 그림3과 같이 숫자 카드가 무작위로 배치되어 있을 때 ?에 들어갈 숫자는 무엇인지 예상해볼까요?\n",
    "그렇게 예상한 이유도 같이 적어주세요!**\n",
    "\n",
    "- 8\n",
    "- 1~7까지의 숫자 카드들이 빠짐없이 있기 때문에 ? 카드는 8이라고 예상했습니다. "
   ]
  },
  {
   "cell_type": "markdown",
   "metadata": {},
   "source": [
    "**[문제2] 그림4와 같이 숫자 카드가 순서를 가지고 배치되어 있을 때 ?에 들어갈 숫자는 무엇인지 예상해볼까요?\n",
    "그렇게 예상한 이유도 같이 적어주세요!**\n",
    "\n",
    "- 4\n",
    "- 숫자 카드들이 한 자리 건너 1씩 증가했기 때문에 4번 숫자로 예상했습니다. "
   ]
  },
  {
   "cell_type": "markdown",
   "metadata": {},
   "source": [
    "**[문제3] 주위에서 순환신경망을 사용한 예시에는 어떤 것들이 있을까요?**\n",
    "\n",
    "- 주식 가격 예측, 자연어 처리 등\n",
    "\n"
   ]
  },
  {
   "cell_type": "markdown",
   "metadata": {},
   "source": [
    "**[문제4] ChatGPT를 이용해 여러분 만의 소설을 작성해봅시다.**\n",
    "\n",
    "(예시 참조)"
   ]
  }
 ],
 "metadata": {
  "language_info": {
   "name": "python"
  },
  "orig_nbformat": 4
 },
 "nbformat": 4,
 "nbformat_minor": 2
}
