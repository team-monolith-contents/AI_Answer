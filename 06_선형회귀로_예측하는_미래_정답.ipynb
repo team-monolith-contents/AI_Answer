{
 "cells": [
  {
   "cell_type": "markdown",
   "id": "8faa6836",
   "metadata": {},
   "source": [
    "**[문제1] 위의 예시 외에도 생활 속에서 선형회귀를 활용하기 좋은 예시를 적어보아요.**\n",
    "\n",
    "우리나라 인구수 예측, 지구의 평균 기온 예측, 키와 발 크기 상관관계 등\n",
    "\n"
   ]
  },
  {
   "cell_type": "markdown",
   "id": "7c5a8bd4",
   "metadata": {},
   "source": [
    "**[문제2] 아래 코드를 실행 후 기울기/y절편을 조정해 보고, 어떠한 방식으로 평균 제곱 오차가 적어지도록 하였는지 이야기해보아요.**\n",
    "\n",
    "기울기가 17, y절편이 -69일때, 평균제곱오차가 2000 아래로 줄어들었습니다. \n",
    "기울기와 y절편을 평균제곱오차가 2000 아래로 줄어들 때까지 조정하였습니다. \n"
   ]
  },
  {
   "cell_type": "markdown",
   "id": "4a9553ed",
   "metadata": {},
   "source": [
    "**[문제3] 위 코드를 참고하여, 아래 데이터로 선형회귀하였을 때 y절편, 가중치, 평균 제곱 오차를 구해보아요.**\n",
    "\n",
    "- y절편 :  [-72.37033667]\n",
    "- 가중치 :  [[17.13967243]]\n",
    "- 평균 제곱 오차 :  1928.8275705186552\n"
   ]
  },
  {
   "cell_type": "code",
   "execution_count": null,
   "id": "231d98ce",
   "metadata": {},
   "outputs": [],
   "source": [
    "x = np.array([12, 20, 30, 56]).reshape(-1, 1)\n",
    "y = np.array([150, 208, 500, 875]).reshape(-1, 1)\n",
    "\n",
    "model = LinearRegression(fit_intercept=True)\n",
    "model.fit(x, y)\n",
    "\n",
    "### 여기에 코드를 작성해주세요 ###\n",
    "print('y절편 : ', model.intercept_)\n",
    "print('가중치 : ', model.coef_)\n",
    "print(\"평균 제곱 오차 : \", mean_squared_error(model.predict(x), y))\n",
    "################################\n"
   ]
  }
 ],
 "metadata": {
  "kernelspec": {
   "display_name": "Python 3 (ipykernel)",
   "language": "python",
   "name": "python3"
  },
  "language_info": {
   "codemirror_mode": {
    "name": "ipython",
    "version": 3
   },
   "file_extension": ".py",
   "mimetype": "text/x-python",
   "name": "python",
   "nbconvert_exporter": "python",
   "pygments_lexer": "ipython3",
   "version": "3.10.13"
  }
 },
 "nbformat": 4,
 "nbformat_minor": 5
}
