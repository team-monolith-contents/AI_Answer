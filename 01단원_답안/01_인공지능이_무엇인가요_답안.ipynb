{
 "cells": [
  {
   "cell_type": "markdown",
   "id": "73827ded",
   "metadata": {},
   "source": [
    "\n",
    "[문제1] 인공지능 하면 떠오르는 내용들을 자유롭게 적어보아요. \n",
    "\n",
    "[문제2] 인공지능이 무엇인지 앞서 이야기한 ChatGPT에 질문해보아요."
   ]
  }
 ],
 "metadata": {
  "kernelspec": {
   "display_name": "Python 3 (ipykernel)",
   "language": "python",
   "name": "python3"
  },
  "language_info": {
   "codemirror_mode": {
    "name": "ipython",
    "version": 3
   },
   "file_extension": ".py",
   "mimetype": "text/x-python",
   "name": "python",
   "nbconvert_exporter": "python",
   "pygments_lexer": "ipython3",
   "version": "3.9.13"
  }
 },
 "nbformat": 4,
 "nbformat_minor": 5
}
