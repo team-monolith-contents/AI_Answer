{
 "cells": [
  {
   "cell_type": "markdown",
   "metadata": {},
   "source": [
    "**[문제1] AI For Ocean을 통해 알 수 있는, 인공지능 시대에서의 인간의 역할은 무엇인지 적어보세요.**\n",
    "\n",
    "인공지능을 학습 시킬 때 원하는 결과를 얻을 수 있는 정확한 데이터를 충분한 양으로 제공해야 합니다. \n",
    "\n"
   ]
  },
  {
   "cell_type": "markdown",
   "metadata": {},
   "source": [
    "**[문제2] 위 내용을 바탕으로 '인공지능은 공명정대하고 편향성이 없다'는 말을 반박해보세요.**\n",
    "\n",
    "인공지능은 인간이 제공한 데이터로 학습을 합니다. 인공지능은 인간이 가진 편향과 편견을 갖을 수 밖에 없습니다. 인간이 의식적으로 공정한 데이터를 제공하여 인공지능의 편향을 줄일 수 있습니다. \n",
    "\n",
    "\n"
   ]
  },
  {
   "cell_type": "markdown",
   "metadata": {},
   "source": [
    "**[문제3] 위 \"국가 인공지능 윤리 기준\"은 누가 지켜야하는 것인지 적어보세요.**\n",
    "\n",
    "\n",
    "인공지능 윤리 기준은 인공지능을 만드는 개발자, 서비스를 제공하는 공급자, 사용하는 사용자가 모두 지켜야합니다. \n",
    "\n",
    "\n",
    "\n"
   ]
  },
  {
   "cell_type": "markdown",
   "metadata": {},
   "source": [
    "**[문제4] 카카오와 네이버 중 개인적으로 마음에 드는 AI 윤리를 선택하고, 두 기업의 AI 윤리의 차이점을 위주로 선택 이유를 적어보세요.**\n",
    "\n",
    "\n",
    "- 카카오 AI 윤리 : 아동과 청소년에 대한 보호, 차별에 대한 경계에서 기술이 발전함으로 인해 발생하는 문제점을 인식하고 이를 해결하려는 점이 마음이 듭니다. \n",
    "- 네이버 AI 윤리 : 다양성에 대한 존중, 합리적인 설명에서 보편적이면서 다채로운 기술의 발전을 볼 수 있을 것으로 기대됩니다. \n",
    "\n"
   ]
  }
 ],
 "metadata": {
  "kernelspec": {
   "display_name": "Python 3 (ipykernel)",
   "language": "python",
   "name": "python3"
  },
  "language_info": {
   "codemirror_mode": {
    "name": "ipython",
    "version": 3
   },
   "file_extension": ".py",
   "mimetype": "text/x-python",
   "name": "python",
   "nbconvert_exporter": "python",
   "pygments_lexer": "ipython3",
   "version": "3.10.13"
  }
 },
 "nbformat": 4,
 "nbformat_minor": 4
}
