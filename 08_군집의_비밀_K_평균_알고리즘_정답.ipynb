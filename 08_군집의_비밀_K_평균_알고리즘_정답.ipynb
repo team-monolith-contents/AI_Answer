{
 "cells": [
  {
   "cell_type": "markdown",
   "id": "9c0fe5cb",
   "metadata": {},
   "source": [
    "**[문제1] 군집과 분류의 차이점을 적어봅시다.**\n",
    "\n",
    "분류는 레이블을 기준으로 구분하는 방식이고, 군집은 데이터의 비슷한 특징으로 구분하는 방식입니다. \n",
    "\n"
   ]
  },
  {
   "cell_type": "markdown",
   "id": "1ee61d6d",
   "metadata": {},
   "source": [
    "**[문제2] 이번에 사용하는 데이터는 실제 초등학교 학생의 PAPS 데이터를 가명처리하여 비식별화한 것입니다. 개인정보 비식별화가 필요한 이유는 무엇입니까?**\n",
    "\n",
    "'비식별화'란 데이터 값 삭제, 총계처리, 범주화, 데이터 마스킹 등을 통해 개인정보의 일부 또는 전부를 삭제하거나 대체함으로써 특정 개인을 식별할 수 없도록 하는 조치입니다. 비식별화된 데이터는 개인정보 동의 없이 사용이 가능합니다. 시장조사, 상품개발, 마케팅전략에 활용하여 산업이 활성화될 수 있습니다. \n",
    "\n"
   ]
  },
  {
   "cell_type": "markdown",
   "id": "c153d40e",
   "metadata": {},
   "source": [
    "**[문제3] \"오래 달리기\"의 최대값과 \"앉아윗몸앞으로굽히기\"의 최대값은 각각 얼마인가요?**\n",
    "\n",
    "- \"오래 달리기\"의 최대값 : 131\n",
    "- \"앉아윗몸앞으로굽히기\"의 최대값 : 26.5\n",
    "\n"
   ]
  },
  {
   "cell_type": "markdown",
   "id": "2ce5fdd1",
   "metadata": {},
   "source": [
    "**[문제4] \"오래달리기\"의 최소값과 최대값은 Min-Max 스케일링 이후 각각 어떤 숫자가 됩니까?**\n",
    "\n",
    "- \"오래달리기\"의 최소값 : 0\n",
    "- \"오래달리기\"의 최대값 : 1\n",
    "\n"
   ]
  }
 ],
 "metadata": {
  "kernelspec": {
   "display_name": "sunny",
   "language": "python",
   "name": "sunny"
  },
  "language_info": {
   "codemirror_mode": {
    "name": "ipython",
    "version": 3
   },
   "file_extension": ".py",
   "mimetype": "text/x-python",
   "name": "python",
   "nbconvert_exporter": "python",
   "pygments_lexer": "ipython3",
   "version": "3.9.16"
  }
 },
 "nbformat": 4,
 "nbformat_minor": 5
}
