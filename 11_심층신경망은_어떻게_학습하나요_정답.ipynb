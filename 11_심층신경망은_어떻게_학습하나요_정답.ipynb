{
 "cells": [
  {
   "cell_type": "markdown",
   "metadata": {},
   "source": [
    "**[문제1] 여러분이 산의 정상에 있다고 가정해봅시다. 여러분이 산에 대한 아무런 정보가 없을 때 무사히 산을 내려오기 위해서는 어떤 방법을 사용해야 할까요?**\n",
    "\n",
    "현재 위치보다 낮은 곳으로 한발씩 이동하며 내려오겠습니다. \n"
   ]
  },
  {
   "cell_type": "markdown",
   "metadata": {},
   "source": [
    "**[문제2] 각각의 출발 지점에서 경사하강법을 적용했을 때에 도착지점을 찾아보세요.**\n",
    "\n",
    "- A : 1\n",
    "- B : 2\n",
    "- C : 2\n",
    "- D : 1"
   ]
  },
  {
   "cell_type": "markdown",
   "metadata": {},
   "source": [
    "**[문제3] 아래 링크의 경사하강법 시뮬레이션을 통해 학습률(step size)가 높을 때, 낮을 때의 장점 및 단점을 파악해봅시다.**\n",
    "\n",
    "Step size가 클 때 한 번 이동하는 거리가 크기 때문에 빠르게 수렴할 수 있지만 수렴하지 못할 수 있습니다.  \n",
    "Step size가 너무 작은 경우 수렴은 가능하지만 시간이 너무 오래 걸릴 수 있습니다. "
   ]
  },
  {
   "cell_type": "markdown",
   "metadata": {},
   "source": [
    "**[문제4] 지난 시간에 배웠던 플레이그라운드에서도 학습률이 조정할 수 있습니다. 학습률을 조정해가면서 학습이 어떻게 바뀌는 지 살펴봅시다.**\n",
    "\n",
    "Learning rate를 10으로 했을 경우 output이 학습 초반에 변화를 보이다가 300 epoch가 넘자 변화가 없었습니다. \n",
    "Learning rate를 0.00001로 했을 경우 3000 epoch가 넘도록 output에 진전이 없었습니다. "
   ]
  }
 ],
 "metadata": {
  "kernelspec": {
   "display_name": "Python 3 (ipykernel)",
   "language": "python",
   "name": "python3"
  },
  "language_info": {
   "codemirror_mode": {
    "name": "ipython",
    "version": 3
   },
   "file_extension": ".py",
   "mimetype": "text/x-python",
   "name": "python",
   "nbconvert_exporter": "python",
   "pygments_lexer": "ipython3",
   "version": "3.10.13"
  }
 },
 "nbformat": 4,
 "nbformat_minor": 4
}
