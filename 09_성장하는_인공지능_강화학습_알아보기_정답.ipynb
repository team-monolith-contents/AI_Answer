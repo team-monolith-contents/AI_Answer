{
 "cells": [
  {
   "cell_type": "markdown",
   "id": "f3ef2543",
   "metadata": {},
   "source": [
    "**[문제1] Frozen Lake에서 강화학습의 각 요소는 무엇에 해당되는지 작성해보아요.**\n",
    "\n",
    "- 에이전트 : 시작 지점에서 출발하여 목표 지점으로 이동\n",
    "- 환경 : 얼어붙은 호수\n",
    "- 행동 : 상하좌우로 네 가지 방향으로 이동\n",
    "- 보상 : 보상이 있는 지면\n",
    "- 상태 : 시작 지점과 목표 지점의 위치, 구멍의 위치\n"
   ]
  },
  {
   "cell_type": "markdown",
   "id": "9e0d414c",
   "metadata": {},
   "source": [
    "**[문제2] 여러분이 Frozen Lake의 맵을 모른다고 하면, 목표에 도착하기 위해 어떤 방법을 사용할지 이야기해보아요.**\n",
    "\n",
    "- 일단 이동가능한 방향 중 하나를 골라서 이동합니다. \n",
    "- 만약에 구멍에 빠졌다면 현재 위치와 이동했던 위치를 기록합니다. \n",
    "- 다음에 이동할 때 구멍에 빠졌던 이동방향을 빼고 선택합니다. \n",
    "- 목표지점에 도착할 때까지 반복합니다. \n",
    "\n",
    "\n",
    "\n"
   ]
  }
 ],
 "metadata": {
  "kernelspec": {
   "display_name": "sunny",
   "language": "python",
   "name": "sunny"
  },
  "language_info": {
   "codemirror_mode": {
    "name": "ipython",
    "version": 3
   },
   "file_extension": ".py",
   "mimetype": "text/x-python",
   "name": "python",
   "nbconvert_exporter": "python",
   "pygments_lexer": "ipython3",
   "version": "3.9.16"
  }
 },
 "nbformat": 4,
 "nbformat_minor": 5
}
